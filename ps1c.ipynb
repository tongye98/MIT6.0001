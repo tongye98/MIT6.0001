{
 "cells": [
  {
   "cell_type": "code",
   "execution_count": 82,
   "id": "e691d1e1",
   "metadata": {},
   "outputs": [
    {
     "name": "stdout",
     "output_type": "stream",
     "text": [
      "Enter your starting annual salary: 10000\n"
     ]
    }
   ],
   "source": [
    "annual_salary = float(input(\"Enter your starting annual salary: \"))"
   ]
  },
  {
   "cell_type": "code",
   "execution_count": 83,
   "id": "8ce16895",
   "metadata": {},
   "outputs": [],
   "source": [
    "total_cost = 1000000\n",
    "semi_annual_raise = .07\n",
    "portion_down_payment = 0.25\n",
    "current_savings = 0\n",
    "r = 0.04"
   ]
  },
  {
   "cell_type": "code",
   "execution_count": 84,
   "id": "55e28334",
   "metadata": {},
   "outputs": [
    {
     "name": "stdout",
     "output_type": "stream",
     "text": [
      "It is not possible to pay the down payment in three years.\n"
     ]
    }
   ],
   "source": [
    "saving_rate_begin = 0\n",
    "saving_rate_end = 10000\n",
    "saving_rate = (saving_rate_begin + saving_rate_end)/(2.0*10000)\n",
    "\n",
    "def saving(saving_rate):\n",
    "    current_savings = 0\n",
    "    monthly_salary = annual_salary/12\n",
    "    for month in range(1,37):\n",
    "        current_savings += current_savings*r/12 + monthly_salary*saving_rate\n",
    "        if month % 6 == 0:\n",
    "            monthly_salary *= (1 + semi_annual_raise)\n",
    "    return current_savings\n",
    "\n",
    "steps = 1\n",
    "flags = True\n",
    "while abs(saving(saving_rate)-total_cost * portion_down_payment) > 100:\n",
    "    steps += 1\n",
    "    if saving(saving_rate) < total_cost * portion_down_payment:\n",
    "        saving_rate_begin = saving_rate * 10000\n",
    "        if abs(saving_rate_begin - saving_rate_end) < 1:\n",
    "            flags = False\n",
    "            break\n",
    "    else: saving_rate_end = saving_rate * 10000\n",
    "    saving_rate = (saving_rate_begin + saving_rate_end)/(2.0*10000)\n",
    "\n",
    "if flags:\n",
    "    print(\"Best savings rate:\",saving_rate)\n",
    "    print(\"Steps in bisection search:\",steps)\n",
    "else: print(\"It is not possible to pay the down payment in three years.\")"
   ]
  },
  {
   "cell_type": "code",
   "execution_count": null,
   "id": "4725c4a2",
   "metadata": {},
   "outputs": [],
   "source": []
  }
 ],
 "metadata": {
  "kernelspec": {
   "display_name": "Python 3 (ipykernel)",
   "language": "python",
   "name": "python3"
  },
  "language_info": {
   "codemirror_mode": {
    "name": "ipython",
    "version": 3
   },
   "file_extension": ".py",
   "mimetype": "text/x-python",
   "name": "python",
   "nbconvert_exporter": "python",
   "pygments_lexer": "ipython3",
   "version": "3.8.10"
  }
 },
 "nbformat": 4,
 "nbformat_minor": 5
}
