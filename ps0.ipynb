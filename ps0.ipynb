{
 "cells": [
  {
   "cell_type": "code",
   "execution_count": 9,
   "id": "349c6ed2",
   "metadata": {},
   "outputs": [],
   "source": [
    "import numpy as np"
   ]
  },
  {
   "cell_type": "code",
   "execution_count": 7,
   "id": "87c33a8c",
   "metadata": {},
   "outputs": [
    {
     "name": "stdout",
     "output_type": "stream",
     "text": [
      "Enter number x: 2\n",
      "Enter number y: 3\n"
     ]
    }
   ],
   "source": [
    "x = int(input(\"Enter number x: \"))\n",
    "y = int(input(\"Enter number y: \"))"
   ]
  },
  {
   "cell_type": "code",
   "execution_count": 8,
   "id": "111c7361",
   "metadata": {},
   "outputs": [
    {
     "name": "stdout",
     "output_type": "stream",
     "text": [
      "x**y = 8\n"
     ]
    }
   ],
   "source": [
    "print(\"x**y =\",x**y)"
   ]
  },
  {
   "cell_type": "code",
   "execution_count": 10,
   "id": "8b3f436d",
   "metadata": {},
   "outputs": [
    {
     "name": "stdout",
     "output_type": "stream",
     "text": [
      "log(x) = 1.0\n"
     ]
    }
   ],
   "source": [
    "print(\"log(x) =\",np.log2(x))"
   ]
  },
  {
   "cell_type": "code",
   "execution_count": 13,
   "id": "0d28e96d",
   "metadata": {},
   "outputs": [
    {
     "name": "stdout",
     "output_type": "stream",
     "text": [
      "log(x) = 1.0\n"
     ]
    }
   ],
   "source": [
    "print(\"log(x) = \" + str(np.log2(x)))"
   ]
  }
 ],
 "metadata": {
  "kernelspec": {
   "display_name": "Python 3 (ipykernel)",
   "language": "python",
   "name": "python3"
  },
  "language_info": {
   "codemirror_mode": {
    "name": "ipython",
    "version": 3
   },
   "file_extension": ".py",
   "mimetype": "text/x-python",
   "name": "python",
   "nbconvert_exporter": "python",
   "pygments_lexer": "ipython3",
   "version": "3.8.10"
  }
 },
 "nbformat": 4,
 "nbformat_minor": 5
}
