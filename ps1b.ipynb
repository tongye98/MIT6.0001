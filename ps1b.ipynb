{
 "cells": [
  {
   "cell_type": "code",
   "execution_count": 5,
   "id": "aa496d8d",
   "metadata": {},
   "outputs": [
    {
     "name": "stdout",
     "output_type": "stream",
     "text": [
      "Enter your starting annual salary: 80000\n",
      "Enter the percent of your salary to save, as a decimal: .1\n",
      "Enter the cost of your dream home: 800000\n",
      "Enter the semi-annual raise, as a decimal: .03\n"
     ]
    }
   ],
   "source": [
    "annual_salary = float(input(\"Enter your starting annual salary: \"))\n",
    "portion_saved = float(input(\"Enter the percent of your salary to save, as a decimal: \"))\n",
    "total_cost = float(input(\"Enter the cost of your dream home: \"))\n",
    "semi_annual_raise = float(input(\"Enter the semi-annual raise, as a decimal: \"))"
   ]
  },
  {
   "cell_type": "code",
   "execution_count": 6,
   "id": "e9aa135d",
   "metadata": {},
   "outputs": [],
   "source": [
    "portion_down_payment = 0.25\n",
    "current_savings = 0\n",
    "r = 0.04"
   ]
  },
  {
   "cell_type": "code",
   "execution_count": 7,
   "id": "f1aa0c95",
   "metadata": {},
   "outputs": [
    {
     "name": "stdout",
     "output_type": "stream",
     "text": [
      "Number of months: 159\n"
     ]
    }
   ],
   "source": [
    "months = 0\n",
    "month_salary = annual_salary/12\n",
    "while current_savings < total_cost*portion_down_payment:\n",
    "    current_savings += current_savings*r/12 + month_salary*portion_saved\n",
    "    months += 1\n",
    "    if months % 6 == 0:\n",
    "        month_salary *= (1+semi_annual_raise)\n",
    "print(\"Number of months:\",months)"
   ]
  },
  {
   "cell_type": "code",
   "execution_count": null,
   "id": "faa16503",
   "metadata": {},
   "outputs": [],
   "source": []
  }
 ],
 "metadata": {
  "kernelspec": {
   "display_name": "Python 3 (ipykernel)",
   "language": "python",
   "name": "python3"
  },
  "language_info": {
   "codemirror_mode": {
    "name": "ipython",
    "version": 3
   },
   "file_extension": ".py",
   "mimetype": "text/x-python",
   "name": "python",
   "nbconvert_exporter": "python",
   "pygments_lexer": "ipython3",
   "version": "3.8.10"
  }
 },
 "nbformat": 4,
 "nbformat_minor": 5
}
