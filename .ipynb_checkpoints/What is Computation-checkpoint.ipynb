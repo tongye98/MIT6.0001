{
 "cells": [
  {
   "cell_type": "code",
   "execution_count": 1,
   "id": "6cc70b7a",
   "metadata": {},
   "outputs": [
    {
     "data": {
      "text/plain": [
       "5"
      ]
     },
     "execution_count": 1,
     "metadata": {},
     "output_type": "execute_result"
    }
   ],
   "source": [
    "3 + 2"
   ]
  },
  {
   "cell_type": "code",
   "execution_count": 2,
   "id": "674b014a",
   "metadata": {},
   "outputs": [
    {
     "name": "stdout",
     "output_type": "stream",
     "text": [
      "5\n"
     ]
    }
   ],
   "source": [
    "print(3+2)"
   ]
  },
  {
   "cell_type": "code",
   "execution_count": 7,
   "id": "e81adbd4",
   "metadata": {},
   "outputs": [
    {
     "name": "stdout",
     "output_type": "stream",
     "text": [
      "Enter a positive number: -1\n",
      "Enter a POSITIVE number: -2\n",
      "Enter a POSITIVE number: -5\n",
      "Enter a POSITIVE number: 1\n"
     ]
    }
   ],
   "source": [
    "num = float(input('Enter a positive number: '))\n",
    "while num <= 0.0:\n",
    "    num = float(input('Enter a POSITIVE number: '))"
   ]
  },
  {
   "cell_type": "code",
   "execution_count": null,
   "id": "a39836d4",
   "metadata": {},
   "outputs": [],
   "source": []
  }
 ],
 "metadata": {
  "kernelspec": {
   "display_name": "Python 3 (ipykernel)",
   "language": "python",
   "name": "python3"
  },
  "language_info": {
   "codemirror_mode": {
    "name": "ipython",
    "version": 3
   },
   "file_extension": ".py",
   "mimetype": "text/x-python",
   "name": "python",
   "nbconvert_exporter": "python",
   "pygments_lexer": "ipython3",
   "version": "3.8.10"
  }
 },
 "nbformat": 4,
 "nbformat_minor": 5
}
