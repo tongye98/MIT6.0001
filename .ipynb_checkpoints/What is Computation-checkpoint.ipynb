{
 "cells": [
  {
   "cell_type": "code",
   "execution_count": 10,
   "id": "6cc70b7a",
   "metadata": {},
   "outputs": [
    {
     "data": {
      "text/plain": [
       "5"
      ]
     },
     "execution_count": 10,
     "metadata": {},
     "output_type": "execute_result"
    }
   ],
   "source": [
    "3 + 2"
   ]
  },
  {
   "cell_type": "code",
   "execution_count": 11,
   "id": "674b014a",
   "metadata": {},
   "outputs": [
    {
     "name": "stdout",
     "output_type": "stream",
     "text": [
      "5\n"
     ]
    }
   ],
   "source": [
    "print(3+2)"
   ]
  },
  {
   "cell_type": "code",
   "execution_count": 12,
   "id": "e81adbd4",
   "metadata": {},
   "outputs": [
    {
     "name": "stdout",
     "output_type": "stream",
     "text": [
      "Enter a positive number: 10\n"
     ]
    }
   ],
   "source": [
    "num = float(input('Enter a positive number: '))\n",
    "while num <= 0.0:\n",
    "    num = float(input('Enter a POSITIVE number: '))"
   ]
  },
  {
   "cell_type": "code",
   "execution_count": 13,
   "id": "a39836d4",
   "metadata": {},
   "outputs": [
    {
     "name": "stdout",
     "output_type": "stream",
     "text": [
      "hello there ana\n"
     ]
    }
   ],
   "source": [
    "hi = \"hello there\"\n",
    "name = \"ana\"\n",
    "greeting = hi + \" \" + name\n",
    "print(greeting)"
   ]
  },
  {
   "cell_type": "code",
   "execution_count": 14,
   "id": "dfeacca0",
   "metadata": {},
   "outputs": [
    {
     "name": "stdout",
     "output_type": "stream",
     "text": [
      "hello there ana ana ana\n"
     ]
    }
   ],
   "source": [
    "silly = hi + (\" \" + name)*3\n",
    "print(silly)"
   ]
  },
  {
   "cell_type": "markdown",
   "id": "2bb942be",
   "metadata": {},
   "source": [
    "## input/output: print"
   ]
  },
  {
   "cell_type": "code",
   "execution_count": 15,
   "id": "2c15ca83",
   "metadata": {},
   "outputs": [
    {
     "name": "stdout",
     "output_type": "stream",
     "text": [
      "my fav num is 1 . x= 1\n",
      "my fav num is 1. x= 1\n"
     ]
    }
   ],
   "source": [
    "x = 1\n",
    "x_str = str(x)\n",
    "print(\"my fav num is\", x, \".\", \"x=\", x)\n",
    "print(\"my fav num is \" + x_str + \". \" + \"x= \" + x_str)"
   ]
  },
  {
   "cell_type": "markdown",
   "id": "be4a1390",
   "metadata": {},
   "source": [
    "commas has space\n",
    "\n",
    "plus no space"
   ]
  },
  {
   "cell_type": "code",
   "execution_count": 16,
   "id": "d8e4969e",
   "metadata": {},
   "outputs": [
    {
     "data": {
      "text/plain": [
       "False"
      ]
     },
     "execution_count": 16,
     "metadata": {},
     "output_type": "execute_result"
    }
   ],
   "source": [
    "\"a\" > \"b\""
   ]
  },
  {
   "cell_type": "code",
   "execution_count": 17,
   "id": "54a71c0f",
   "metadata": {},
   "outputs": [
    {
     "data": {
      "text/plain": [
       "False"
      ]
     },
     "execution_count": 17,
     "metadata": {},
     "output_type": "execute_result"
    }
   ],
   "source": [
    "\"ab\" > \"b\""
   ]
  },
  {
   "cell_type": "code",
   "execution_count": 18,
   "id": "239a5287",
   "metadata": {},
   "outputs": [
    {
     "data": {
      "text/plain": [
       "True"
      ]
     },
     "execution_count": 18,
     "metadata": {},
     "output_type": "execute_result"
    }
   ],
   "source": [
    "\"ab\" > \"a\""
   ]
  },
  {
   "cell_type": "markdown",
   "id": "21492e40",
   "metadata": {},
   "source": [
    "# CONTROL FLOW - branching\n",
    "## Three ways:\n",
    "### 1. if \"condition\"\n",
    "### 2. if else\n",
    "### 3. if elif else"
   ]
  },
  {
   "cell_type": "code",
   "execution_count": 19,
   "id": "5d14fc9c",
   "metadata": {},
   "outputs": [
    {
     "name": "stdout",
     "output_type": "stream",
     "text": [
      "5\n",
      "7\n",
      "9\n"
     ]
    }
   ],
   "source": [
    "mysum = 0\n",
    "for i in range(5,11,2):\n",
    "    print(i)"
   ]
  },
  {
   "cell_type": "code",
   "execution_count": 20,
   "id": "ba7056e3",
   "metadata": {},
   "outputs": [
    {
     "name": "stdout",
     "output_type": "stream",
     "text": [
      "5\n",
      "6\n",
      "7\n",
      "8\n"
     ]
    }
   ],
   "source": [
    "for i in range(5,9):\n",
    "    print(i)"
   ]
  },
  {
   "cell_type": "code",
   "execution_count": 21,
   "id": "782a3ded",
   "metadata": {},
   "outputs": [
    {
     "name": "stdout",
     "output_type": "stream",
     "text": [
      "26 100\n"
     ]
    }
   ],
   "source": [
    "s = \"6.00 is 6.0001 and 6.0002\"\n",
    "new_str = \"\"\n",
    "new_str += s[-1]\n",
    "new_str += s[0]\n",
    "new_str += s[4::30]    \n",
    "new_str += s[13:10:-1]\n",
    "print(new_str)"
   ]
  },
  {
   "cell_type": "markdown",
   "id": "9612f2eb",
   "metadata": {},
   "source": [
    "## Function Scope"
   ]
  },
  {
   "cell_type": "code",
   "execution_count": 22,
   "id": "97082f75",
   "metadata": {},
   "outputs": [
    {
     "name": "stdout",
     "output_type": "stream",
     "text": [
      "g: x = 4\n",
      "4\n"
     ]
    }
   ],
   "source": [
    "def g(x):\n",
    "    def h():\n",
    "        x = 'abc'\n",
    "    x = x + 1\n",
    "    print(\"g: x =\", x)\n",
    "    h()\n",
    "    return x\n",
    "\n",
    "x = 3\n",
    "z = g(x)\n",
    "print(z)"
   ]
  },
  {
   "cell_type": "markdown",
   "id": "fcad00ed",
   "metadata": {},
   "source": [
    "## pythontutor.com \n",
    "## Visualize code execution"
   ]
  },
  {
   "cell_type": "code",
   "execution_count": 23,
   "id": "49fca651",
   "metadata": {},
   "outputs": [
    {
     "name": "stdout",
     "output_type": "stream",
     "text": [
      "2\n",
      "5\n"
     ]
    }
   ],
   "source": [
    "def f(y):\n",
    "    x = 1\n",
    "    x += 1\n",
    "    print(x)\n",
    "\n",
    "x = 5\n",
    "f(x)\n",
    "print(x)"
   ]
  },
  {
   "cell_type": "code",
   "execution_count": 24,
   "id": "4b45fbba",
   "metadata": {},
   "outputs": [
    {
     "name": "stdout",
     "output_type": "stream",
     "text": [
      "5\n",
      "6\n",
      "5\n"
     ]
    }
   ],
   "source": [
    "def g(y):\n",
    "    print(x)\n",
    "    print(x+1)\n",
    "x = 5\n",
    "g(x)\n",
    "print(x)"
   ]
  },
  {
   "cell_type": "code",
   "execution_count": 25,
   "id": "9b4806b3",
   "metadata": {},
   "outputs": [
    {
     "ename": "UnboundLocalError",
     "evalue": "local variable 'x' referenced before assignment",
     "output_type": "error",
     "traceback": [
      "\u001b[0;31m---------------------------------------------------------------------------\u001b[0m",
      "\u001b[0;31mUnboundLocalError\u001b[0m                         Traceback (most recent call last)",
      "\u001b[0;32m/tmp/ipykernel_10601/3960799207.py\u001b[0m in \u001b[0;36m<module>\u001b[0;34m\u001b[0m\n\u001b[1;32m      3\u001b[0m     \u001b[0mx\u001b[0m \u001b[0;34m+=\u001b[0m \u001b[0;36m1\u001b[0m\u001b[0;34m\u001b[0m\u001b[0;34m\u001b[0m\u001b[0m\n\u001b[1;32m      4\u001b[0m \u001b[0mx\u001b[0m \u001b[0;34m=\u001b[0m \u001b[0;36m5\u001b[0m\u001b[0;34m\u001b[0m\u001b[0;34m\u001b[0m\u001b[0m\n\u001b[0;32m----> 5\u001b[0;31m \u001b[0mh\u001b[0m\u001b[0;34m(\u001b[0m\u001b[0mx\u001b[0m\u001b[0;34m)\u001b[0m\u001b[0;34m\u001b[0m\u001b[0;34m\u001b[0m\u001b[0m\n\u001b[0m\u001b[1;32m      6\u001b[0m \u001b[0mprint\u001b[0m\u001b[0;34m(\u001b[0m\u001b[0mx\u001b[0m\u001b[0;34m)\u001b[0m\u001b[0;34m\u001b[0m\u001b[0;34m\u001b[0m\u001b[0m\n",
      "\u001b[0;32m/tmp/ipykernel_10601/3960799207.py\u001b[0m in \u001b[0;36mh\u001b[0;34m(y)\u001b[0m\n\u001b[1;32m      1\u001b[0m \u001b[0;32mdef\u001b[0m \u001b[0mh\u001b[0m\u001b[0;34m(\u001b[0m\u001b[0my\u001b[0m\u001b[0;34m)\u001b[0m\u001b[0;34m:\u001b[0m\u001b[0;34m\u001b[0m\u001b[0;34m\u001b[0m\u001b[0m\n\u001b[0;32m----> 2\u001b[0;31m     \u001b[0mprint\u001b[0m\u001b[0;34m(\u001b[0m\u001b[0mx\u001b[0m\u001b[0;34m)\u001b[0m\u001b[0;34m\u001b[0m\u001b[0;34m\u001b[0m\u001b[0m\n\u001b[0m\u001b[1;32m      3\u001b[0m     \u001b[0mx\u001b[0m \u001b[0;34m+=\u001b[0m \u001b[0;36m1\u001b[0m\u001b[0;34m\u001b[0m\u001b[0;34m\u001b[0m\u001b[0m\n\u001b[1;32m      4\u001b[0m \u001b[0mx\u001b[0m \u001b[0;34m=\u001b[0m \u001b[0;36m5\u001b[0m\u001b[0;34m\u001b[0m\u001b[0;34m\u001b[0m\u001b[0m\n\u001b[1;32m      5\u001b[0m \u001b[0mh\u001b[0m\u001b[0;34m(\u001b[0m\u001b[0mx\u001b[0m\u001b[0;34m)\u001b[0m\u001b[0;34m\u001b[0m\u001b[0;34m\u001b[0m\u001b[0m\n",
      "\u001b[0;31mUnboundLocalError\u001b[0m: local variable 'x' referenced before assignment"
     ]
    }
   ],
   "source": [
    "def h(y):\n",
    "    print(x)\n",
    "    x += 1\n",
    "x = 5\n",
    "h(x)\n",
    "print(x)"
   ]
  },
  {
   "cell_type": "code",
   "execution_count": 26,
   "id": "7eb5a458",
   "metadata": {},
   "outputs": [
    {
     "name": "stdout",
     "output_type": "stream",
     "text": [
      "5\n",
      "5\n"
     ]
    }
   ],
   "source": [
    "def h(y):\n",
    "    print(x)\n",
    "    # x += 1\n",
    "x = 5\n",
    "h(x)\n",
    "print(x)"
   ]
  },
  {
   "cell_type": "code",
   "execution_count": 27,
   "id": "a3b5bad7",
   "metadata": {},
   "outputs": [
    {
     "ename": "UnboundLocalError",
     "evalue": "local variable 'x' referenced before assignment",
     "output_type": "error",
     "traceback": [
      "\u001b[0;31m---------------------------------------------------------------------------\u001b[0m",
      "\u001b[0;31mUnboundLocalError\u001b[0m                         Traceback (most recent call last)",
      "\u001b[0;32m/tmp/ipykernel_10601/1297537661.py\u001b[0m in \u001b[0;36m<module>\u001b[0;34m\u001b[0m\n\u001b[1;32m      3\u001b[0m     \u001b[0mx\u001b[0m \u001b[0;34m=\u001b[0m \u001b[0;36m1\u001b[0m\u001b[0;34m\u001b[0m\u001b[0;34m\u001b[0m\u001b[0m\n\u001b[1;32m      4\u001b[0m \u001b[0mx\u001b[0m \u001b[0;34m=\u001b[0m \u001b[0;36m5\u001b[0m\u001b[0;34m\u001b[0m\u001b[0;34m\u001b[0m\u001b[0m\n\u001b[0;32m----> 5\u001b[0;31m \u001b[0mh\u001b[0m\u001b[0;34m(\u001b[0m\u001b[0mx\u001b[0m\u001b[0;34m)\u001b[0m\u001b[0;34m\u001b[0m\u001b[0;34m\u001b[0m\u001b[0m\n\u001b[0m\u001b[1;32m      6\u001b[0m \u001b[0mprint\u001b[0m\u001b[0;34m(\u001b[0m\u001b[0mx\u001b[0m\u001b[0;34m)\u001b[0m\u001b[0;34m\u001b[0m\u001b[0;34m\u001b[0m\u001b[0m\n",
      "\u001b[0;32m/tmp/ipykernel_10601/1297537661.py\u001b[0m in \u001b[0;36mh\u001b[0;34m(y)\u001b[0m\n\u001b[1;32m      1\u001b[0m \u001b[0;32mdef\u001b[0m \u001b[0mh\u001b[0m\u001b[0;34m(\u001b[0m\u001b[0my\u001b[0m\u001b[0;34m)\u001b[0m\u001b[0;34m:\u001b[0m\u001b[0;34m\u001b[0m\u001b[0;34m\u001b[0m\u001b[0m\n\u001b[0;32m----> 2\u001b[0;31m     \u001b[0mprint\u001b[0m\u001b[0;34m(\u001b[0m\u001b[0mx\u001b[0m\u001b[0;34m)\u001b[0m\u001b[0;34m\u001b[0m\u001b[0;34m\u001b[0m\u001b[0m\n\u001b[0m\u001b[1;32m      3\u001b[0m     \u001b[0mx\u001b[0m \u001b[0;34m=\u001b[0m \u001b[0;36m1\u001b[0m\u001b[0;34m\u001b[0m\u001b[0;34m\u001b[0m\u001b[0m\n\u001b[1;32m      4\u001b[0m \u001b[0mx\u001b[0m \u001b[0;34m=\u001b[0m \u001b[0;36m5\u001b[0m\u001b[0;34m\u001b[0m\u001b[0;34m\u001b[0m\u001b[0m\n\u001b[1;32m      5\u001b[0m \u001b[0mh\u001b[0m\u001b[0;34m(\u001b[0m\u001b[0mx\u001b[0m\u001b[0;34m)\u001b[0m\u001b[0;34m\u001b[0m\u001b[0;34m\u001b[0m\u001b[0m\n",
      "\u001b[0;31mUnboundLocalError\u001b[0m: local variable 'x' referenced before assignment"
     ]
    }
   ],
   "source": [
    "def h(y):\n",
    "    print(x)\n",
    "    x = 1\n",
    "x = 5\n",
    "h(x)\n",
    "print(x)"
   ]
  },
  {
   "cell_type": "markdown",
   "id": "0acf0a29",
   "metadata": {},
   "source": [
    "## Tuples, Lists"
   ]
  },
  {
   "cell_type": "markdown",
   "id": "16148f2b",
   "metadata": {},
   "source": [
    "## tuple can return more than one value\n",
    "## tuple: immutable\n",
    "## list: mutable"
   ]
  },
  {
   "cell_type": "code",
   "execution_count": null,
   "id": "587a7582",
   "metadata": {},
   "outputs": [],
   "source": [
    "warm = ['yellow','orange']\n",
    "hot = ['red']\n",
    "brightcolors = [warm]\n",
    "brightcolors.append(hot)\n",
    "print(brightcolors)\n",
    "hot.append('pink')\n",
    "print(hot)\n",
    "print(brightcolors)"
   ]
  },
  {
   "cell_type": "markdown",
   "id": "771d31b8",
   "metadata": {},
   "source": [
    "## Recursion"
   ]
  },
  {
   "cell_type": "code",
   "execution_count": null,
   "id": "b45b7ce5",
   "metadata": {},
   "outputs": [],
   "source": [
    "def printMove(fr,to):\n",
    "    print('move from ' + str(fr) + ' to ' + str(to))\n",
    "    \n",
    "def Towers(n, fr, to, spare):\n",
    "    if n == 1:\n",
    "        printMove(fr, to)\n",
    "    else:\n",
    "        Towers(n-1, fr, spare, to)\n",
    "        Towers(1, fr, to, spare)\n",
    "        Towers(n-1, spare, to, fr)\n",
    "\n",
    "Towers(3,1,3,2)"
   ]
  },
  {
   "cell_type": "code",
   "execution_count": null,
   "id": "1920e553",
   "metadata": {},
   "outputs": [],
   "source": [
    "while True:\n",
    "    s = input('请输入除数:')\n",
    "    try:\n",
    "        result = 20 / int(s)\n",
    "        print('here')\n",
    "        print('20除以%s的结果是: %g' % (s , result))\n",
    "    except ValueError:\n",
    "        print('值错误，您必须输入数值')\n",
    "    except ArithmeticError:\n",
    "        print('算术错误，您不能输入0')\n",
    "    else:\n",
    "        print('没有出现异常')"
   ]
  },
  {
   "cell_type": "code",
   "execution_count": null,
   "id": "1e74c858",
   "metadata": {},
   "outputs": [],
   "source": [
    "assert True"
   ]
  },
  {
   "cell_type": "code",
   "execution_count": null,
   "id": "36fc5273",
   "metadata": {},
   "outputs": [],
   "source": [
    "assert False, \"Oh no!\""
   ]
  },
  {
   "cell_type": "code",
   "execution_count": null,
   "id": "23232ae0",
   "metadata": {},
   "outputs": [],
   "source": [
    "while True:\n",
    "    assert 2 + 2 == 5,'no!'"
   ]
  },
  {
   "cell_type": "markdown",
   "id": "bd614788",
   "metadata": {},
   "source": [
    "# Object Oriented Programing"
   ]
  },
  {
   "cell_type": "code",
   "execution_count": null,
   "id": "e6d5272d",
   "metadata": {},
   "outputs": [],
   "source": [
    "class Coordinate(object):\n",
    "    def __init__(self,x,y):\n",
    "        self.x = x\n",
    "        self.y = y\n",
    "    def distance(self, other):\n",
    "        x_diff_sq = (self.x - other.x)**2\n",
    "        y_diff_sq = (self.y - other.y)**2\n",
    "        return (x_diff_sq + y_diff_sq)**0.5\n",
    "    def __str__(self):\n",
    "        return \"<\"+str(self.x)+\",\"+str(self.y)+\">\""
   ]
  },
  {
   "cell_type": "code",
   "execution_count": null,
   "id": "2b9f8e31",
   "metadata": {},
   "outputs": [],
   "source": [
    "c = Coordinate(3,4)\n",
    "zero = Coordinate(0,0)\n",
    "print(c.distance(zero))"
   ]
  },
  {
   "cell_type": "code",
   "execution_count": null,
   "id": "17d092ad",
   "metadata": {},
   "outputs": [],
   "source": [
    "print(Coordinate.distance(c,zero))"
   ]
  },
  {
   "cell_type": "code",
   "execution_count": null,
   "id": "e6cd8b84",
   "metadata": {},
   "outputs": [],
   "source": [
    "print(zero.distance(c))"
   ]
  },
  {
   "cell_type": "code",
   "execution_count": 28,
   "id": "4cd0b85f",
   "metadata": {},
   "outputs": [
    {
     "ename": "NameError",
     "evalue": "name 'c' is not defined",
     "output_type": "error",
     "traceback": [
      "\u001b[0;31m---------------------------------------------------------------------------\u001b[0m",
      "\u001b[0;31mNameError\u001b[0m                                 Traceback (most recent call last)",
      "\u001b[0;32m/tmp/ipykernel_10601/2743823995.py\u001b[0m in \u001b[0;36m<module>\u001b[0;34m\u001b[0m\n\u001b[0;32m----> 1\u001b[0;31m \u001b[0mprint\u001b[0m\u001b[0;34m(\u001b[0m\u001b[0mc\u001b[0m\u001b[0;34m)\u001b[0m\u001b[0;34m\u001b[0m\u001b[0;34m\u001b[0m\u001b[0m\n\u001b[0m",
      "\u001b[0;31mNameError\u001b[0m: name 'c' is not defined"
     ]
    }
   ],
   "source": [
    "print(c)"
   ]
  },
  {
   "cell_type": "code",
   "execution_count": null,
   "id": "e66cc6ee",
   "metadata": {},
   "outputs": [],
   "source": [
    "print(type(c))"
   ]
  },
  {
   "cell_type": "code",
   "execution_count": null,
   "id": "273195a8",
   "metadata": {},
   "outputs": [],
   "source": [
    "print(c)"
   ]
  },
  {
   "cell_type": "code",
   "execution_count": null,
   "id": "08048f43",
   "metadata": {},
   "outputs": [],
   "source": [
    "print(Coordinate)"
   ]
  },
  {
   "cell_type": "code",
   "execution_count": null,
   "id": "d8c491f7",
   "metadata": {},
   "outputs": [],
   "source": [
    "print(type(Coordinate))"
   ]
  },
  {
   "cell_type": "markdown",
   "id": "ad48ebaf",
   "metadata": {},
   "source": [
    "## Example Fraction"
   ]
  },
  {
   "cell_type": "code",
   "execution_count": null,
   "id": "715df84d",
   "metadata": {},
   "outputs": [],
   "source": [
    "class Fraction(object):\n",
    "    \"\"\"\n",
    "    A number represented as a fraction\n",
    "    \"\"\"\n",
    "    def __init__(self,num,denom):\n",
    "        \"\"\" num and denom are integers \"\"\"\n",
    "        assert type(num) == int and type(denom) == int\n",
    "        self.num = num\n",
    "        self.denom = denom\n",
    "    def __str__(self):\n",
    "        \"\"\" Returns a string representation of \"\"\"\n",
    "        return str(self.num) + \"/\" + str(self.denom)\n",
    "    def __add__(self,other):\n",
    "        \"\"\" Returns a new fractionn representing \"\"\"\n",
    "        top = self.num*other.denom + self.denom*other.num\n",
    "        bott = self.denom*other.denom\n",
    "        return Fraction(top,bott)\n",
    "    def __float__(self):\n",
    "        return self.num/self.denom\n",
    "    def inverse(self):\n",
    "        return Fraction(self.denom,self.num)"
   ]
  },
  {
   "cell_type": "code",
   "execution_count": null,
   "id": "613e623d",
   "metadata": {},
   "outputs": [],
   "source": [
    "a = Fraction(1,4)\n",
    "b = Fraction(3,4)\n",
    "c = a + b\n",
    "print(c)"
   ]
  },
  {
   "cell_type": "code",
   "execution_count": null,
   "id": "2d675bdc",
   "metadata": {},
   "outputs": [],
   "source": [
    "print(float(c))"
   ]
  },
  {
   "cell_type": "code",
   "execution_count": 29,
   "id": "d8e5bc6f",
   "metadata": {},
   "outputs": [
    {
     "ename": "NameError",
     "evalue": "name 'b' is not defined",
     "output_type": "error",
     "traceback": [
      "\u001b[0;31m---------------------------------------------------------------------------\u001b[0m",
      "\u001b[0;31mNameError\u001b[0m                                 Traceback (most recent call last)",
      "\u001b[0;32m/tmp/ipykernel_10601/2293665223.py\u001b[0m in \u001b[0;36m<module>\u001b[0;34m\u001b[0m\n\u001b[0;32m----> 1\u001b[0;31m \u001b[0md\u001b[0m \u001b[0;34m=\u001b[0m \u001b[0mb\u001b[0m\u001b[0;34m.\u001b[0m\u001b[0minverse\u001b[0m\u001b[0;34m(\u001b[0m\u001b[0;34m)\u001b[0m\u001b[0;34m\u001b[0m\u001b[0;34m\u001b[0m\u001b[0m\n\u001b[0m\u001b[1;32m      2\u001b[0m \u001b[0mprint\u001b[0m\u001b[0;34m(\u001b[0m\u001b[0md\u001b[0m\u001b[0;34m)\u001b[0m\u001b[0;34m\u001b[0m\u001b[0;34m\u001b[0m\u001b[0m\n\u001b[1;32m      3\u001b[0m \u001b[0mprint\u001b[0m\u001b[0;34m(\u001b[0m\u001b[0mfloat\u001b[0m\u001b[0;34m(\u001b[0m\u001b[0md\u001b[0m\u001b[0;34m)\u001b[0m\u001b[0;34m)\u001b[0m\u001b[0;34m\u001b[0m\u001b[0;34m\u001b[0m\u001b[0m\n",
      "\u001b[0;31mNameError\u001b[0m: name 'b' is not defined"
     ]
    }
   ],
   "source": [
    "d = b.inverse()\n",
    "print(d)\n",
    "print(float(d))"
   ]
  },
  {
   "cell_type": "code",
   "execution_count": null,
   "id": "4cbdaeb9",
   "metadata": {},
   "outputs": [],
   "source": [
    "print(Fraction.__float__(b))"
   ]
  },
  {
   "cell_type": "code",
   "execution_count": null,
   "id": "93a3d382",
   "metadata": {},
   "outputs": [],
   "source": [
    "print(b.__float__())"
   ]
  },
  {
   "cell_type": "code",
   "execution_count": 30,
   "id": "8d2f8be4",
   "metadata": {},
   "outputs": [
    {
     "name": "stdout",
     "output_type": "stream",
     "text": [
      "\n",
      "---- animal tests ----\n",
      "animal:None:4\n",
      "4\n",
      "animal:fluffy:4\n",
      "animal::4\n"
     ]
    }
   ],
   "source": [
    "import random\n",
    "\n",
    "#################################\n",
    "## Animal abstract data type \n",
    "#################################\n",
    "class Animal(object):\n",
    "    def __init__(self, age):\n",
    "        self.age = age\n",
    "        self.name = None\n",
    "    def get_age(self):\n",
    "        return self.age\n",
    "    def get_name(self):\n",
    "        return self.name\n",
    "    def set_age(self, newage):\n",
    "        self.age = newage\n",
    "    def set_name(self, newname=\"\"):\n",
    "        self.name = newname\n",
    "    def __str__(self):\n",
    "        return \"animal:\"+str(self.name)+\":\"+str(self.age)\n",
    "        \n",
    "print(\"\\n---- animal tests ----\")\n",
    "a = Animal(4)\n",
    "print(a)\n",
    "print(a.get_age())\n",
    "a.set_name(\"fluffy\")\n",
    "print(a)\n",
    "a.set_name()\n",
    "print(a)"
   ]
  },
  {
   "cell_type": "code",
   "execution_count": 31,
   "id": "bba174c8",
   "metadata": {},
   "outputs": [
    {
     "name": "stdout",
     "output_type": "stream",
     "text": [
      "\n",
      "---- cat tests ----\n",
      "cat:fluffy:5\n",
      "meow\n",
      "5\n"
     ]
    }
   ],
   "source": [
    "#################################\n",
    "## Inheritance example \n",
    "#################################\n",
    "class Cat(Animal):\n",
    "    def speak(self):\n",
    "        print(\"meow\")\n",
    "    def __str__(self):\n",
    "        return \"cat:\"+str(self.name)+\":\"+str(self.age)\n",
    "    \n",
    "print(\"\\n---- cat tests ----\")\n",
    "c = Cat(5)\n",
    "c.set_name(\"fluffy\")\n",
    "print(c)\n",
    "c.speak()\n",
    "print(c.get_age())\n",
    "#a.speak() # error because there is no speak method for Animal class"
   ]
  },
  {
   "cell_type": "code",
   "execution_count": 32,
   "id": "c322bdb1",
   "metadata": {},
   "outputs": [
    {
     "name": "stdout",
     "output_type": "stream",
     "text": [
      "\n",
      "---- person tests ----\n",
      "jack\n",
      "30\n",
      "jill\n",
      "25\n",
      "person:jack:30\n",
      "hello\n",
      "5 year difference\n"
     ]
    }
   ],
   "source": [
    "#################################\n",
    "## Inheritance example\n",
    "#################################\n",
    "class Person(Animal):\n",
    "    def __init__(self, name, age):\n",
    "        Animal.__init__(self, age)\n",
    "        self.set_name(name)\n",
    "        self.friends = []\n",
    "    def get_friends(self):\n",
    "        return self.friends\n",
    "    def speak(self):\n",
    "        print(\"hello\")\n",
    "    def add_friend(self, fname):\n",
    "        if fname not in self.friends:\n",
    "            self.friends.append(fname)\n",
    "    def age_diff(self, other):\n",
    "        diff = self.age - other.age\n",
    "        print(abs(diff), \"year difference\")\n",
    "    def __str__(self):\n",
    "        return \"person:\"+str(self.name)+\":\"+str(self.age)\n",
    "\n",
    "print(\"\\n---- person tests ----\")\n",
    "p1 = Person(\"jack\", 30)\n",
    "p2 = Person(\"jill\", 25)\n",
    "print(p1.get_name())\n",
    "print(p1.get_age())\n",
    "print(p2.get_name())\n",
    "print(p2.get_age())\n",
    "print(p1)\n",
    "p1.speak()\n",
    "p1.age_diff(p2)"
   ]
  },
  {
   "cell_type": "code",
   "execution_count": 33,
   "id": "ae7913f2",
   "metadata": {},
   "outputs": [
    {
     "name": "stdout",
     "output_type": "stream",
     "text": [
      "\n",
      "---- student tests ----\n",
      "student:alice:20:CS\n",
      "student:beth:18:None\n",
      "alice says: i have homework\n",
      "beth says: i have homework\n"
     ]
    }
   ],
   "source": [
    "#################################\n",
    "## Inheritance example\n",
    "#################################\n",
    "class Student(Person):\n",
    "    def __init__(self, name, age, major=None):\n",
    "        Person.__init__(self, name, age)\n",
    "        self.major = major\n",
    "    def __str__(self):\n",
    "        return \"student:\"+str(self.name)+\":\"+str(self.age)+\":\"+str(self.major)\n",
    "    def change_major(self, major):\n",
    "        self.major = major\n",
    "    def speak(self):\n",
    "        r = random.random()\n",
    "        if r < 0.25:\n",
    "            print(\"i have homework\")\n",
    "        elif 0.25 <= r < 0.5:\n",
    "            print(\"i need sleep\")\n",
    "        elif 0.5 <= r < 0.75:\n",
    "            print(\"i should eat\")\n",
    "        else:\n",
    "            print(\"i am watching tv\")\n",
    "\n",
    "print(\"\\n---- student tests ----\")\n",
    "s1 = Student('alice', 20, \"CS\")\n",
    "s2 = Student('beth', 18)\n",
    "print(s1)\n",
    "print(s2)\n",
    "print(s1.get_name(),\"says:\", end=\" \")\n",
    "s1.speak()\n",
    "print(s2.get_name(),\"says:\", end=\" \")\n",
    "s2.speak()"
   ]
  },
  {
   "cell_type": "code",
   "execution_count": 34,
   "id": "cbd31316",
   "metadata": {},
   "outputs": [
    {
     "name": "stdout",
     "output_type": "stream",
     "text": [
      "\n",
      "---- rabbit tests ----\n",
      "---- testing creating rabbits ----\n",
      "r1: rabbit:001\n",
      "r2: rabbit:002\n",
      "r3: rabbit:003\n",
      "r1 parent1: None\n",
      "r1 parent2: None\n",
      "---- testing rabbit addition ----\n",
      "r1: rabbit:001\n",
      "r2: rabbit:002\n",
      "r4: rabbit:004\n",
      "r4 parent1: rabbit:001\n",
      "r4 parent2: rabbit:002\n",
      "---- testing rabbit equality ----\n",
      "r3: rabbit:003\n",
      "r4: rabbit:004\n",
      "r5: rabbit:005\n"
     ]
    }
   ],
   "source": [
    "#################################\n",
    "## Use of class variables  \n",
    "#################################\n",
    "class Rabbit(Animal):\n",
    "    # a class variable, tag, shared across all instances\n",
    "    tag = 1\n",
    "    def __init__(self, age, parent1=None, parent2=None):\n",
    "        Animal.__init__(self, age)\n",
    "        self.parent1 = parent1\n",
    "        self.parent2 = parent2\n",
    "        self.rid = Rabbit.tag\n",
    "        Rabbit.tag += 1\n",
    "    def get_rid(self):\n",
    "        # zfill used to add leading zeroes 001 instead of 1\n",
    "        return str(self.rid).zfill(3)\n",
    "    def get_parent1(self):\n",
    "        return self.parent1\n",
    "    def get_parent2(self):\n",
    "        return self.parent2\n",
    "    def __add__(self, other):\n",
    "        # returning object of same type as this class\n",
    "        return Rabbit(0, self, other)\n",
    "    def __eq__(self, other):\n",
    "        # compare the ids of self and other's parents\n",
    "        # don't care about the order of the parents\n",
    "        # the backslash tells python I want to break up my line\n",
    "        parents_same = self.parent1.rid == other.parent1.rid \\\n",
    "                       and self.parent2.rid == other.parent2.rid\n",
    "        parents_opposite = self.parent2.rid == other.parent1.rid \\\n",
    "                           and self.parent1.rid == other.parent2.rid\n",
    "        return parents_same or parents_opposite\n",
    "    def __str__(self):\n",
    "        return \"rabbit:\"+ self.get_rid()\n",
    "\n",
    "print(\"\\n---- rabbit tests ----\")\n",
    "print(\"---- testing creating rabbits ----\")\n",
    "r1 = Rabbit(3)\n",
    "r2 = Rabbit(4)\n",
    "r3 = Rabbit(5)\n",
    "print(\"r1:\", r1)\n",
    "print(\"r2:\", r2)\n",
    "print(\"r3:\", r3)\n",
    "print(\"r1 parent1:\", r1.get_parent1())\n",
    "print(\"r1 parent2:\", r1.get_parent2())\n",
    "\n",
    "print(\"---- testing rabbit addition ----\")\n",
    "r4 = r1+r2   # r1.__add__(r2)\n",
    "print(\"r1:\", r1)\n",
    "print(\"r2:\", r2)\n",
    "print(\"r4:\", r4)\n",
    "print(\"r4 parent1:\", r4.get_parent1())\n",
    "print(\"r4 parent2:\", r4.get_parent2())\n",
    "\n",
    "print(\"---- testing rabbit equality ----\")\n",
    "r5 = r3+r4\n",
    "r6 = r4+r3\n",
    "print(\"r3:\", r3)\n",
    "print(\"r4:\", r4)\n",
    "print(\"r5:\", r5)"
   ]
  },
  {
   "cell_type": "markdown",
   "id": "a9115abf",
   "metadata": {},
   "source": [
    "## bubble sort\n",
    "O(n^2)"
   ]
  },
  {
   "cell_type": "code",
   "execution_count": 36,
   "id": "a0aa5f57",
   "metadata": {},
   "outputs": [],
   "source": [
    "def bubble_sort(L):\n",
    "    swap = False\n",
    "    while not swap:\n",
    "        swap = True\n",
    "        for j in range(1,len(L)):\n",
    "            if L[j-1] > L[j]:\n",
    "                swap = False\n",
    "                temp = L[j]\n",
    "                L[j] = L[j-1]\n",
    "                L[j-1] = temp\n",
    "            \n",
    "testList = [1,3,5,7,2,6,25,18,13]"
   ]
  },
  {
   "cell_type": "code",
   "execution_count": 38,
   "id": "aaf18ebc",
   "metadata": {},
   "outputs": [
    {
     "name": "stdout",
     "output_type": "stream",
     "text": [
      "None\n",
      "[1, 2, 3, 5, 6, 7, 13, 18, 25]\n"
     ]
    }
   ],
   "source": [
    "print(bubble_sort(testList))\n",
    "print(testList)"
   ]
  },
  {
   "cell_type": "markdown",
   "id": "6f32f330",
   "metadata": {},
   "source": [
    "## selection sort\n",
    "O(n^2)"
   ]
  },
  {
   "cell_type": "code",
   "execution_count": 41,
   "id": "da16a80c",
   "metadata": {},
   "outputs": [],
   "source": [
    "def selection_sort(L):\n",
    "    suffixst =  0\n",
    "    while suffixst != len(L):\n",
    "        for i in range(suffixst,len(L)):\n",
    "            if L[i] < L[suffixst]:\n",
    "                L[suffixst], L[i] = L[i], L[suffixst]\n",
    "        suffixst += 1"
   ]
  },
  {
   "cell_type": "code",
   "execution_count": 42,
   "id": "5e9b85c0",
   "metadata": {},
   "outputs": [
    {
     "name": "stdout",
     "output_type": "stream",
     "text": [
      "[1, 2, 3, 5, 6, 7, 13, 18, 25]\n"
     ]
    }
   ],
   "source": [
    "testList = [1,3,5,7,2,6,25,18,13]\n",
    "selection_sort(testList)\n",
    "print(testList)"
   ]
  },
  {
   "cell_type": "markdown",
   "id": "4b3675d7",
   "metadata": {},
   "source": [
    "## merge sort\n",
    "O(nlogn)"
   ]
  },
  {
   "cell_type": "code",
   "execution_count": 43,
   "id": "22f6cedd",
   "metadata": {},
   "outputs": [],
   "source": [
    "def merge(left, right):\n",
    "    result = []\n",
    "    i, j = 0, 0\n",
    "    while i < len(left) and j < len(right):\n",
    "        if left[i] < right[j]:\n",
    "            result.append(left[i])\n",
    "            i += 1\n",
    "        else:\n",
    "            result.append(right[j])\n",
    "            j += 1\n",
    "    while (i < len(left)):\n",
    "        result.append(left[i])\n",
    "        i += 1\n",
    "    while (j < len(right)):\n",
    "        result.append(right[j])\n",
    "        j += 1\n",
    "        \n",
    "    return result"
   ]
  },
  {
   "cell_type": "code",
   "execution_count": 44,
   "id": "650218c4",
   "metadata": {},
   "outputs": [],
   "source": [
    "def merge_sort(L):\n",
    "    if len(L) < 2:\n",
    "        return L[:]\n",
    "    else:\n",
    "        middle = len(L)//2\n",
    "        left = merge_sort(L[:middle])\n",
    "        right = merge_sort(L[middle:])\n",
    "        return merge(left,right)"
   ]
  },
  {
   "cell_type": "code",
   "execution_count": 46,
   "id": "10ef3593",
   "metadata": {},
   "outputs": [
    {
     "name": "stdout",
     "output_type": "stream",
     "text": [
      "[1, 2, 3, 5, 6, 7, 13, 18, 25]\n"
     ]
    }
   ],
   "source": [
    "testList = [1,3,5,7,2,6,25,18,13]\n",
    "print(merge_sort(testList))"
   ]
  }
 ],
 "metadata": {
  "kernelspec": {
   "display_name": "Python 3 (ipykernel)",
   "language": "python",
   "name": "python3"
  },
  "language_info": {
   "codemirror_mode": {
    "name": "ipython",
    "version": 3
   },
   "file_extension": ".py",
   "mimetype": "text/x-python",
   "name": "python",
   "nbconvert_exporter": "python",
   "pygments_lexer": "ipython3",
   "version": "3.8.10"
  }
 },
 "nbformat": 4,
 "nbformat_minor": 5
}
