{
 "cells": [
  {
   "cell_type": "code",
   "execution_count": 17,
   "id": "aa496d8d",
   "metadata": {},
   "outputs": [
    {
     "name": "stdout",
     "output_type": "stream",
     "text": [
      "Enter your annual salary: 80000\n",
      "Enter the percent of your salary to save, as a decimal: .15\n",
      "Enter the cost of your dream home: 500000\n"
     ]
    }
   ],
   "source": [
    "annual_salary = float(input(\"Enter your annual salary: \"))\n",
    "portion_saved = float(input(\"Enter the percent of your salary to save, as a decimal: \"))\n",
    "total_cost = float(input(\"Enter the cost of your dream home: \"))"
   ]
  },
  {
   "cell_type": "code",
   "execution_count": 18,
   "id": "e9aa135d",
   "metadata": {},
   "outputs": [],
   "source": [
    "portion_down_payment = 0.25\n",
    "current_savings = 0\n",
    "r = 0.04"
   ]
  },
  {
   "cell_type": "code",
   "execution_count": 19,
   "id": "f1aa0c95",
   "metadata": {},
   "outputs": [
    {
     "name": "stdout",
     "output_type": "stream",
     "text": [
      "Number of months: 105\n"
     ]
    }
   ],
   "source": [
    "months = 0\n",
    "while current_savings < total_cost*portion_down_payment:\n",
    "    current_savings += current_savings*r/12 + annual_salary*portion_saved/12\n",
    "    months += 1\n",
    "print(\"Number of months:\",months)"
   ]
  },
  {
   "cell_type": "code",
   "execution_count": null,
   "id": "faa16503",
   "metadata": {},
   "outputs": [],
   "source": []
  }
 ],
 "metadata": {
  "kernelspec": {
   "display_name": "Python 3 (ipykernel)",
   "language": "python",
   "name": "python3"
  },
  "language_info": {
   "codemirror_mode": {
    "name": "ipython",
    "version": 3
   },
   "file_extension": ".py",
   "mimetype": "text/x-python",
   "name": "python",
   "nbconvert_exporter": "python",
   "pygments_lexer": "ipython3",
   "version": "3.8.10"
  }
 },
 "nbformat": 4,
 "nbformat_minor": 5
}
