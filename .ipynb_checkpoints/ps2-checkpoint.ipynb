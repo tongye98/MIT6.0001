{
 "cells": [
  {
   "cell_type": "markdown",
   "id": "83b24d33",
   "metadata": {},
   "source": [
    "## Problem1: Basic Hangman"
   ]
  },
  {
   "cell_type": "code",
   "execution_count": 54,
   "id": "17a57781",
   "metadata": {},
   "outputs": [
    {
     "name": "stdout",
     "output_type": "stream",
     "text": [
      "Loading word list from file...\n",
      "   55900 words loaded.\n",
      "Welcome to the game Hangman!\n",
      "I am thinking of a word that is 5 letters long.\n",
      "You have 3 warnings left.\n",
      "-------------\n",
      "You have 6 guesses left.\n",
      "Avaliable letters: abcdefghijklmnopqrstuvwxyz\n",
      "Please guess a letter:a\n",
      "Good guess: a_ _ _ _ \n",
      "-------------\n",
      "You have 6 guesses left.\n",
      "Avaliable letters: bcdefghijklmnopqrstuvwxyz\n",
      "Please guess a letter:l\n",
      "Good guess: a_ _ l_ \n",
      "-------------\n",
      "You have 6 guesses left.\n",
      "Avaliable letters: bcdefghijkmnopqrstuvwxyz\n",
      "Please guess a letter:*\n",
      "apple\n",
      "-------------\n",
      "You have 6 guesses left.\n",
      "Avaliable letters: bcdefghijkmnopqrstuvwxyz\n",
      "Please guess a letter:e\n",
      "Good guess: a_ _ le\n",
      "-------------\n",
      "You have 6 guesses left.\n",
      "Avaliable letters: bcdfghijkmnopqrstuvwxyz\n",
      "Please guess a letter:p\n",
      "Good guess: apple\n",
      "-------------\n",
      "Congratulations, you won!\n",
      "Your total score for this game is: 24\n"
     ]
    }
   ],
   "source": [
    "# Problem Set 2, hangman.py\n",
    "# Name: \n",
    "# Collaborators:\n",
    "# Time spent:\n",
    "\n",
    "# Hangman Game\n",
    "# -----------------------------------\n",
    "# Helper code\n",
    "# You don't need to understand this helper code,\n",
    "# but you will have to know how to use the functions\n",
    "# (so be sure to read the docstrings!)\n",
    "import random\n",
    "import string\n",
    "\n",
    "WORDLIST_FILENAME = \"ps2/words.txt\"\n",
    "\n",
    "\n",
    "def load_words():\n",
    "    \"\"\"\n",
    "    Returns a list of valid words. Words are strings of lowercase letters.\n",
    "    \n",
    "    Depending on the size of the word list, this function may\n",
    "    take a while to finish.\n",
    "    \"\"\"\n",
    "    print(\"Loading word list from file...\")\n",
    "    # inFile: file\n",
    "    inFile = open(WORDLIST_FILENAME, 'r')\n",
    "    # line: string\n",
    "    line = inFile.readline()\n",
    "    # wordlist: list of strings\n",
    "    wordlist = line.split()\n",
    "    print(\"  \", len(wordlist), \"words loaded.\")\n",
    "    return wordlist\n",
    "\n",
    "\n",
    "\n",
    "def choose_word(wordlist):\n",
    "    \"\"\"\n",
    "    wordlist (list): list of words (strings)\n",
    "    \n",
    "    Returns a word from wordlist at random\n",
    "    \"\"\"\n",
    "    return random.choice(wordlist)\n",
    "\n",
    "# end of helper code\n",
    "\n",
    "# -----------------------------------\n",
    "\n",
    "# Load the list of words into the variable wordlist\n",
    "# so that it can be accessed from anywhere in the program\n",
    "wordlist = load_words()\n",
    "\n",
    "\n",
    "def is_word_guessed(secret_word, letters_guessed):\n",
    "    '''\n",
    "    secret_word: string, the word the user is guessing; assumes all letters are\n",
    "      lowercase\n",
    "    letters_guessed: list (of letters), which letters have been guessed so far;\n",
    "      assumes that all letters are lowercase\n",
    "    returns: boolean, True if all the letters of secret_word are in letters_guessed;\n",
    "      False otherwise\n",
    "    '''\n",
    "    # FILL IN YOUR CODE HERE AND DELETE \"pass\"\n",
    "    for letter in secret_word:\n",
    "        if letter not in letters_guessed:\n",
    "            return False\n",
    "    return True\n",
    "\n",
    "\n",
    "\n",
    "def get_guessed_word(secret_word, letters_guessed):\n",
    "    '''\n",
    "    secret_word: string, the word the user is guessing\n",
    "    letters_guessed: list (of letters), which letters have been guessed so far\n",
    "    returns: string, comprised of letters, underscores (_), and spaces that represents\n",
    "      which letters in secret_word have been guessed so far.\n",
    "    '''\n",
    "    # FILL IN YOUR CODE HERE AND DELETE \"pass\"\n",
    "    guessed_word = \"\"\n",
    "    for letter in secret_word:\n",
    "        if letter in letters_guessed:\n",
    "            guessed_word += letter\n",
    "        else: guessed_word += \"_ \"\n",
    "    return guessed_word\n",
    "\n",
    "\n",
    "\n",
    "def get_available_letters(letters_guessed):\n",
    "    '''\n",
    "    letters_guessed: list (of letters), which letters have been guessed so far\n",
    "    returns: string (of letters), comprised of letters that represents which letters have not\n",
    "      yet been guessed.\n",
    "    '''\n",
    "    # FILL IN YOUR CODE HERE AND DELETE \"pass\"\n",
    "    available_letters = \"\"\n",
    "    for letter in string.ascii_lowercase:\n",
    "        if letter not in letters_guessed:\n",
    "            available_letters += letter\n",
    "    return available_letters\n",
    "    \n",
    "    \n",
    "\n",
    "def unique_letters(secret_word):\n",
    "    '''\n",
    "    secret_word: string, the secret word to guess\n",
    "    return: number of unique letters in secret word\n",
    "    '''\n",
    "    return len(set(secret_word))\n",
    "    \n",
    "\n",
    "def hangman(secret_word):\n",
    "    '''\n",
    "    secret_word: string, the secret word to guess.\n",
    "    \n",
    "    Starts up an interactive game of Hangman.\n",
    "    \n",
    "    * At the start of the game, let the user know how many \n",
    "      letters the secret_word contains and how many guesses s/he starts with.\n",
    "      \n",
    "    * The user should start with 6 guesses\n",
    "\n",
    "    * Before each round, you should display to the user how many guesses\n",
    "      s/he has left and the letters that the user has not yet guessed.\n",
    "    \n",
    "    * Ask the user to supply one guess per round. Remember to make\n",
    "      sure that the user puts in a letter!\n",
    "    \n",
    "    * The user should receive feedback immediately after each guess \n",
    "      about whether their guess appears in the computer's word.\n",
    "\n",
    "    * After each guess, you should display to the user the \n",
    "      partially guessed word so far.\n",
    "    \n",
    "    Follows the other limitations detailed in the problem write-up.\n",
    "    '''\n",
    "    # FILL IN YOUR CODE HERE AND DELETE \"pass\"\n",
    "    \n",
    "    guesses_remaining = 6\n",
    "    letters_guessed = list()\n",
    "    warning_remaining = 3\n",
    "    vowels = ['a','e','i','o','u']\n",
    "    \n",
    "    print(\"Welcome to the game Hangman!\")\n",
    "    print(\"I am thinking of a word that is\", len(secret_word),\"letters long.\")\n",
    "    print(\"You have\", warning_remaining, \"warnings left.\")\n",
    "    print(\"-------------\")\n",
    "    \n",
    "    while not is_word_guessed(secret_word,letters_guessed) and guesses_remaining > 0:\n",
    "        print(\"You have\",guesses_remaining, \"guesses left.\")\n",
    "        print(\"Avaliable letters:\", get_available_letters(letters_guessed))\n",
    "        guess = input(\"Please guess a letter:\")\n",
    "        if str.isalpha(guess):\n",
    "            guess = str.lower(guess)\n",
    "            if guess not in letters_guessed:\n",
    "                letters_guessed.append(guess)\n",
    "                if guess in secret_word:\n",
    "                    print(\"Good guess:\", get_guessed_word(secret_word,letters_guessed))\n",
    "                else:\n",
    "                    if guess in vowels:\n",
    "                        guesses_remaining -= 2\n",
    "                    else:\n",
    "                        guesses_remaining -= 1\n",
    "                    print(\"Oops! That letter is not in my word:\",get_guessed_word(secret_word,letters_guessed))\n",
    "                    #print(\"Please guess a letter:\",get_guessed_word(secret_word,letters_guessed))\n",
    "            else:\n",
    "                if warning_remaining > 0: \n",
    "                    warning_remaining -= 1\n",
    "                else: \n",
    "                    guesses_remaining -= 1\n",
    "                print(\"Oops! You've already guessed that letter. You now have\", warning_remaining, \"warnings left:\",get_guessed_word(secret_word,letters_guessed))\n",
    "        else:\n",
    "            if warning_remaining > 0: \n",
    "                warning_remaining -= 1\n",
    "            else: \n",
    "                guesses_remaining -= 1\n",
    "            print(\"Oops! That is not a valid letter. You have\", warning_remaining, \"warnings left:\", get_guessed_word(secret_word,letters_guessed))\n",
    "        print(\"-------------\")\n",
    "        \n",
    "    if is_word_guessed(secret_word,letters_guessed):\n",
    "        print(\"Congratulations, you won!\")\n",
    "        score = guesses_remaining*unique_letters(secret_word)\n",
    "        print(\"Your total score for this game is:\",score)\n",
    "    else:\n",
    "        print(\"Sorry, you ran out of guesses. The word was \" + secret_word + \".\")\n",
    "    \n",
    "\n",
    "    \n",
    "# When you've completed your hangman function, scroll down to the bottom\n",
    "# of the file and uncomment the first two lines to test\n",
    "#(hint: you might want to pick your own\n",
    "# secret_word while you're doing your own testing)\n",
    "\n",
    "\n",
    "# -----------------------------------\n",
    "\n",
    "\n",
    "\n",
    "def match_with_gaps(my_word, other_word):\n",
    "    '''\n",
    "    my_word: string with _ characters, current guess of secret word\n",
    "    other_word: string, regular English word\n",
    "    returns: boolean, True if all the actual letters of my_word match the \n",
    "        corresponding letters of other_word, or the letter is the special symbol\n",
    "        _ , and my_word and other_word are of the same length;\n",
    "        False otherwise: \n",
    "    '''\n",
    "    # FILL IN YOUR CODE HERE AND DELETE \"pass\"\n",
    "    my_word = my_word.replace(' ','')\n",
    "    if len(my_word) != len(other_word):\n",
    "        return False\n",
    "    for index in range(len(my_word)):\n",
    "        if my_word[index] != '_' and my_word[index] != other_word[index]:\n",
    "            return False\n",
    "        if my_word[index] == '_' and other_word[index] in my_word:\n",
    "            return False\n",
    "    return True\n",
    "            \n",
    "\n",
    "\n",
    "\n",
    "def show_possible_matches(my_word):\n",
    "    '''\n",
    "    my_word: string with _ characters, current guess of secret word\n",
    "    returns: nothing, but should print out every word in wordlist that matches my_word\n",
    "             Keep in mind that in hangman when a letter is guessed, all the positions\n",
    "             at which that letter occurs in the secret word are revealed.\n",
    "             Therefore, the hidden letter(_ ) cannot be one of the letters in the word\n",
    "             that has already been revealed.\n",
    "\n",
    "    '''\n",
    "    # FILL IN YOUR CODE HERE AND DELETE \"pass\"\n",
    "    is_zero = True\n",
    "    for target in wordlist:\n",
    "        if match_with_gaps(my_word, target):\n",
    "            is_zero = False\n",
    "            print(target)\n",
    "    if is_zero:\n",
    "        print(\"No mathes found\")\n",
    "\n",
    "def hangman_with_hints(secret_word):\n",
    "    '''\n",
    "    secret_word: string, the secret word to guess.\n",
    "    \n",
    "    Starts up an interactive game of Hangman.\n",
    "    \n",
    "    * At the start of the game, let the user know how many \n",
    "      letters the secret_word contains and how many guesses s/he starts with.\n",
    "      \n",
    "    * The user should start with 6 guesses\n",
    "    \n",
    "    * Before each round, you should display to the user how many guesses\n",
    "      s/he has left and the letters that the user has not yet guessed.\n",
    "    \n",
    "    * Ask the user to supply one guess per round. Make sure to check that the user guesses a letter\n",
    "      \n",
    "    * The user should receive feedback immediately after each guess \n",
    "      about whether their guess appears in the computer's word.\n",
    "\n",
    "    * After each guess, you should display to the user the \n",
    "      partially guessed word so far.\n",
    "      \n",
    "    * If the guess is the symbol *, print out all words in wordlist that\n",
    "      matches the current guessed word. \n",
    "    \n",
    "    Follows the other limitations detailed in the problem write-up.\n",
    "    '''\n",
    "    # FILL IN YOUR CODE HERE AND DELETE \"pass\"\n",
    "    guesses_remaining = 6\n",
    "    letters_guessed = list()\n",
    "    warning_remaining = 3\n",
    "    vowels = ['a','e','i','o','u']\n",
    "    \n",
    "    print(\"Welcome to the game Hangman!\")\n",
    "    print(\"I am thinking of a word that is\", len(secret_word),\"letters long.\")\n",
    "    print(\"You have\", warning_remaining, \"warnings left.\")\n",
    "    print(\"-------------\")\n",
    "    \n",
    "    while not is_word_guessed(secret_word,letters_guessed) and guesses_remaining > 0:\n",
    "        print(\"You have\",guesses_remaining, \"guesses left.\")\n",
    "        print(\"Avaliable letters:\", get_available_letters(letters_guessed))\n",
    "        guess = input(\"Please guess a letter:\")\n",
    "        if str.isalpha(guess):\n",
    "            guess = str.lower(guess)\n",
    "            if guess not in letters_guessed:\n",
    "                letters_guessed.append(guess)\n",
    "                if guess in secret_word:\n",
    "                    print(\"Good guess:\", get_guessed_word(secret_word,letters_guessed))\n",
    "                else:\n",
    "                    if guess in vowels:\n",
    "                        guesses_remaining -= 2\n",
    "                    else:\n",
    "                        guesses_remaining -= 1\n",
    "                    print(\"Oops! That letter is not in my word:\",get_guessed_word(secret_word,letters_guessed))\n",
    "                    #print(\"Please guess a letter:\",get_guessed_word(secret_word,letters_guessed))\n",
    "            else:\n",
    "                if warning_remaining > 0: \n",
    "                    warning_remaining -= 1\n",
    "                else: \n",
    "                    guesses_remaining -= 1\n",
    "                print(\"Oops! You've already guessed that letter. You now have\", warning_remaining, \"warnings left:\",get_guessed_word(secret_word,letters_guessed))\n",
    "        elif guess == '*':\n",
    "            show_possible_matches(get_guessed_word(secret_word,letter_guessed))\n",
    "        else:\n",
    "            if warning_remaining > 0: \n",
    "                warning_remaining -= 1\n",
    "            else: \n",
    "                guesses_remaining -= 1\n",
    "            print(\"Oops! That is not a valid letter. You have\", warning_remaining, \"warnings left:\", get_guessed_word(secret_word,letters_guessed))\n",
    "        print(\"-------------\")\n",
    "        \n",
    "    if is_word_guessed(secret_word,letters_guessed):\n",
    "        print(\"Congratulations, you won!\")\n",
    "        score = guesses_remaining*unique_letters(secret_word)\n",
    "        print(\"Your total score for this game is:\",score)\n",
    "    else:\n",
    "        print(\"Sorry, you ran out of guesses. The word was \" + secret_word + \".\")\n",
    "\n",
    "\n",
    "\n",
    "# When you've completed your hangman_with_hint function, comment the two similar\n",
    "# lines above that were used to run the hangman function, and then uncomment\n",
    "# these two lines and run this file to test!\n",
    "# Hint: You might want to pick your own secret_word while you're testing.\n",
    "\n",
    "\n",
    "if __name__ == \"__main__\":\n",
    "    # pass\n",
    "\n",
    "    # To test part 2, comment out the pass line above and\n",
    "    # uncomment the following two lines.\n",
    "    \n",
    "    #secret_word = choose_word(wordlist)\n",
    "    #hangman(secret_word)\n",
    "\n",
    "###############\n",
    "    \n",
    "    # To test part 3 re-comment out the above lines and \n",
    "    # uncomment the following two lines. \n",
    "    \n",
    "    #secret_word = choose_word(wordlist)\n",
    "    secret_word = 'apple'\n",
    "    hangman_with_hints(secret_word)\n",
    "    pass"
   ]
  },
  {
   "cell_type": "code",
   "execution_count": 17,
   "id": "37f0309e",
   "metadata": {},
   "outputs": [
    {
     "name": "stdout",
     "output_type": "stream",
     "text": [
      "False\n"
     ]
    }
   ],
   "source": [
    "secret_word = 'apple'\n",
    "letters_guessed = ['e','i','p','r','s']\n",
    "print(is_word_guessed(secret_word,letters_guessed))"
   ]
  },
  {
   "cell_type": "code",
   "execution_count": 18,
   "id": "a779e49c",
   "metadata": {},
   "outputs": [
    {
     "name": "stdout",
     "output_type": "stream",
     "text": [
      "_ pp_ e\n"
     ]
    }
   ],
   "source": [
    "secret_word = 'apple'\n",
    "letters_guessed = ['e','i','p','r','s']\n",
    "print(get_guessed_word(secret_word,letters_guessed))"
   ]
  },
  {
   "cell_type": "code",
   "execution_count": 19,
   "id": "4ec78292",
   "metadata": {},
   "outputs": [
    {
     "name": "stdout",
     "output_type": "stream",
     "text": [
      "abcdfghjlmnoqtuvwxyz\n"
     ]
    }
   ],
   "source": [
    "letter_guessed = ['e','i','k','p','r','s']\n",
    "print(get_available_letters(letter_guessed))"
   ]
  },
  {
   "cell_type": "code",
   "execution_count": 43,
   "id": "27971f6f",
   "metadata": {},
   "outputs": [
    {
     "data": {
      "text/plain": [
       "False"
      ]
     },
     "execution_count": 43,
     "metadata": {},
     "output_type": "execute_result"
    }
   ],
   "source": [
    "match_with_gaps(\"te_ t\", \"tact\")"
   ]
  },
  {
   "cell_type": "code",
   "execution_count": 44,
   "id": "023f8f79",
   "metadata": {},
   "outputs": [
    {
     "data": {
      "text/plain": [
       "False"
      ]
     },
     "execution_count": 44,
     "metadata": {},
     "output_type": "execute_result"
    }
   ],
   "source": [
    "match_with_gaps(\"a_ _ le\", \"banana\")"
   ]
  },
  {
   "cell_type": "code",
   "execution_count": 45,
   "id": "b233e93b",
   "metadata": {},
   "outputs": [
    {
     "data": {
      "text/plain": [
       "True"
      ]
     },
     "execution_count": 45,
     "metadata": {},
     "output_type": "execute_result"
    }
   ],
   "source": [
    "match_with_gaps(\"a_ _ le\", \"apple\")"
   ]
  },
  {
   "cell_type": "code",
   "execution_count": 48,
   "id": "399a8e3e",
   "metadata": {},
   "outputs": [
    {
     "data": {
      "text/plain": [
       "False"
      ]
     },
     "execution_count": 48,
     "metadata": {},
     "output_type": "execute_result"
    }
   ],
   "source": [
    "match_with_gaps(\"a_ ple\", \"apple\")"
   ]
  },
  {
   "cell_type": "code",
   "execution_count": 49,
   "id": "dc4f026d",
   "metadata": {},
   "outputs": [
    {
     "name": "stdout",
     "output_type": "stream",
     "text": [
      "tact\n",
      "tart\n",
      "taut\n",
      "teat\n",
      "tent\n",
      "test\n",
      "text\n",
      "that\n",
      "tilt\n",
      "tint\n",
      "toot\n",
      "tort\n",
      "tout\n",
      "trot\n",
      "tuft\n",
      "twit\n"
     ]
    }
   ],
   "source": [
    "show_possible_matches(\"t_ _ t\")"
   ]
  },
  {
   "cell_type": "code",
   "execution_count": null,
   "id": "8ae13dc6",
   "metadata": {},
   "outputs": [],
   "source": []
  },
  {
   "cell_type": "code",
   "execution_count": 50,
   "id": "b366cc27",
   "metadata": {},
   "outputs": [
    {
     "name": "stdout",
     "output_type": "stream",
     "text": [
      "ample\n",
      "amply\n"
     ]
    }
   ],
   "source": [
    "show_possible_matches(\"a_ pl_ \")"
   ]
  },
  {
   "cell_type": "code",
   "execution_count": 52,
   "id": "eae8f332",
   "metadata": {},
   "outputs": [
    {
     "name": "stdout",
     "output_type": "stream",
     "text": [
      "No mathes found\n"
     ]
    }
   ],
   "source": [
    "show_possible_matches(\"abbbb_ \")"
   ]
  }
 ],
 "metadata": {
  "kernelspec": {
   "display_name": "Python 3 (ipykernel)",
   "language": "python",
   "name": "python3"
  },
  "language_info": {
   "codemirror_mode": {
    "name": "ipython",
    "version": 3
   },
   "file_extension": ".py",
   "mimetype": "text/x-python",
   "name": "python",
   "nbconvert_exporter": "python",
   "pygments_lexer": "ipython3",
   "version": "3.8.10"
  }
 },
 "nbformat": 4,
 "nbformat_minor": 5
}
